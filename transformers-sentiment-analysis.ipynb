{
 "cells": [
  {
   "cell_type": "code",
   "execution_count": 2,
   "id": "0985b77a",
   "metadata": {},
   "outputs": [],
   "source": [
    "# !pip install nltk\n",
    "# import nltk\n",
    "# nltk.download('stopwords')\n",
    "\n",
    "# !pip install transformers\n",
    "# !pip install torchtext\n",
    "# !pip install transformers"
   ]
  },
  {
   "cell_type": "markdown",
   "id": "077ea4f8",
   "metadata": {},
   "source": [
    "# Transformers"
   ]
  },
  {
   "cell_type": "code",
   "execution_count": 3,
   "id": "2d8b0798",
   "metadata": {},
   "outputs": [
    {
     "name": "stderr",
     "output_type": "stream",
     "text": [
      "No model was supplied, defaulted to distilbert-base-uncased-finetuned-sst-2-english (https://huggingface.co/distilbert-base-uncased-finetuned-sst-2-english)\n"
     ]
    },
    {
     "name": "stdout",
     "output_type": "stream",
     "text": [
      "input> ruim\n",
      "[{'label': 'NEGATIVE', 'score': 0.9266090989112854}]\n",
      "input> borring\n",
      "[{'label': 'POSITIVE', 'score': 0.977200448513031}]\n",
      "input> exit\n"
     ]
    }
   ],
   "source": [
    "from transformers import pipeline\n",
    "\n",
    "classifier = pipeline('sentiment-analysis')\n",
    "\n",
    "while True:\n",
    "    sentence = input(\"input> \")\n",
    "\n",
    "    if sentence == \"exit\":\n",
    "        break\n",
    "\n",
    "    res = classifier(sentence)\n",
    "    print(res)\n"
   ]
  },
  {
   "cell_type": "code",
   "execution_count": null,
   "id": "a5b97d1a",
   "metadata": {},
   "outputs": [],
   "source": []
  }
 ],
 "metadata": {
  "kernelspec": {
   "display_name": "Python 3",
   "language": "python",
   "name": "python3"
  },
  "language_info": {
   "codemirror_mode": {
    "name": "ipython",
    "version": 3
   },
   "file_extension": ".py",
   "mimetype": "text/x-python",
   "name": "python",
   "nbconvert_exporter": "python",
   "pygments_lexer": "ipython3",
   "version": "3.8.10"
  }
 },
 "nbformat": 4,
 "nbformat_minor": 5
}
